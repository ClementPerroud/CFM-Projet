{
 "cells": [
  {
   "cell_type": "code",
   "execution_count": 138,
   "metadata": {
    "execution": {
     "iopub.execute_input": "2023-03-14T14:59:09.623042Z",
     "iopub.status.busy": "2023-03-14T14:59:09.622536Z",
     "iopub.status.idle": "2023-03-14T14:59:13.691533Z",
     "shell.execute_reply": "2023-03-14T14:59:13.689823Z",
     "shell.execute_reply.started": "2023-03-14T14:59:09.623007Z"
    }
   },
   "outputs": [
    {
     "name": "stdout",
     "output_type": "stream",
     "text": [
      "Requirement already satisfied: keras-tuner in /usr/local/lib/python3.9/dist-packages (1.3.0)\n",
      "Requirement already satisfied: packaging in /usr/local/lib/python3.9/dist-packages (from keras-tuner) (23.0)\n",
      "Requirement already satisfied: kt-legacy in /usr/local/lib/python3.9/dist-packages (from keras-tuner) (1.0.4)\n",
      "Requirement already satisfied: requests in /usr/local/lib/python3.9/dist-packages (from keras-tuner) (2.28.2)\n",
      "Requirement already satisfied: tensorflow>=2.0 in /usr/local/lib/python3.9/dist-packages (from keras-tuner) (2.9.2)\n",
      "Requirement already satisfied: ipython in /usr/local/lib/python3.9/dist-packages (from keras-tuner) (8.5.0)\n",
      "Requirement already satisfied: absl-py>=1.0.0 in /usr/local/lib/python3.9/dist-packages (from tensorflow>=2.0->keras-tuner) (1.4.0)\n",
      "Requirement already satisfied: libclang>=13.0.0 in /usr/local/lib/python3.9/dist-packages (from tensorflow>=2.0->keras-tuner) (15.0.6.1)\n",
      "Requirement already satisfied: gast<=0.4.0,>=0.2.1 in /usr/local/lib/python3.9/dist-packages (from tensorflow>=2.0->keras-tuner) (0.4.0)\n",
      "Requirement already satisfied: numpy>=1.20 in /usr/local/lib/python3.9/dist-packages (from tensorflow>=2.0->keras-tuner) (1.23.4)\n",
      "Requirement already satisfied: keras-preprocessing>=1.1.1 in /usr/local/lib/python3.9/dist-packages (from tensorflow>=2.0->keras-tuner) (1.1.2)\n",
      "Requirement already satisfied: setuptools in /usr/local/lib/python3.9/dist-packages (from tensorflow>=2.0->keras-tuner) (66.1.1)\n",
      "Requirement already satisfied: typing-extensions>=3.6.6 in /usr/local/lib/python3.9/dist-packages (from tensorflow>=2.0->keras-tuner) (4.4.0)\n",
      "Requirement already satisfied: tensorflow-estimator<2.10.0,>=2.9.0rc0 in /usr/local/lib/python3.9/dist-packages (from tensorflow>=2.0->keras-tuner) (2.9.0)\n",
      "Requirement already satisfied: google-pasta>=0.1.1 in /usr/local/lib/python3.9/dist-packages (from tensorflow>=2.0->keras-tuner) (0.2.0)\n",
      "Requirement already satisfied: astunparse>=1.6.0 in /usr/local/lib/python3.9/dist-packages (from tensorflow>=2.0->keras-tuner) (1.6.3)\n",
      "Requirement already satisfied: opt-einsum>=2.3.2 in /usr/local/lib/python3.9/dist-packages (from tensorflow>=2.0->keras-tuner) (3.3.0)\n",
      "Requirement already satisfied: tensorflow-io-gcs-filesystem>=0.23.1 in /usr/local/lib/python3.9/dist-packages (from tensorflow>=2.0->keras-tuner) (0.30.0)\n",
      "Requirement already satisfied: grpcio<2.0,>=1.24.3 in /usr/local/lib/python3.9/dist-packages (from tensorflow>=2.0->keras-tuner) (1.51.1)\n",
      "Requirement already satisfied: tensorboard<2.10,>=2.9 in /usr/local/lib/python3.9/dist-packages (from tensorflow>=2.0->keras-tuner) (2.9.1)\n",
      "Requirement already satisfied: termcolor>=1.1.0 in /usr/local/lib/python3.9/dist-packages (from tensorflow>=2.0->keras-tuner) (2.2.0)\n",
      "Requirement already satisfied: wrapt>=1.11.0 in /usr/local/lib/python3.9/dist-packages (from tensorflow>=2.0->keras-tuner) (1.14.1)\n",
      "Requirement already satisfied: h5py>=2.9.0 in /usr/local/lib/python3.9/dist-packages (from tensorflow>=2.0->keras-tuner) (3.8.0)\n",
      "Requirement already satisfied: flatbuffers<2,>=1.12 in /usr/local/lib/python3.9/dist-packages (from tensorflow>=2.0->keras-tuner) (1.12)\n",
      "Requirement already satisfied: six>=1.12.0 in /usr/lib/python3/dist-packages (from tensorflow>=2.0->keras-tuner) (1.14.0)\n",
      "Requirement already satisfied: protobuf<3.20,>=3.9.2 in /usr/local/lib/python3.9/dist-packages (from tensorflow>=2.0->keras-tuner) (3.19.6)\n",
      "Requirement already satisfied: keras<2.10.0,>=2.9.0rc0 in /usr/local/lib/python3.9/dist-packages (from tensorflow>=2.0->keras-tuner) (2.9.0)\n",
      "Requirement already satisfied: prompt-toolkit<3.1.0,>3.0.1 in /usr/local/lib/python3.9/dist-packages (from ipython->keras-tuner) (3.0.36)\n",
      "Requirement already satisfied: jedi>=0.16 in /usr/local/lib/python3.9/dist-packages (from ipython->keras-tuner) (0.18.2)\n",
      "Requirement already satisfied: matplotlib-inline in /usr/local/lib/python3.9/dist-packages (from ipython->keras-tuner) (0.1.6)\n",
      "Requirement already satisfied: pickleshare in /usr/local/lib/python3.9/dist-packages (from ipython->keras-tuner) (0.7.5)\n",
      "Requirement already satisfied: traitlets>=5 in /usr/local/lib/python3.9/dist-packages (from ipython->keras-tuner) (5.8.1)\n",
      "Requirement already satisfied: pexpect>4.3 in /usr/local/lib/python3.9/dist-packages (from ipython->keras-tuner) (4.8.0)\n",
      "Requirement already satisfied: stack-data in /usr/local/lib/python3.9/dist-packages (from ipython->keras-tuner) (0.6.2)\n",
      "Requirement already satisfied: decorator in /usr/local/lib/python3.9/dist-packages (from ipython->keras-tuner) (5.1.1)\n",
      "Requirement already satisfied: backcall in /usr/local/lib/python3.9/dist-packages (from ipython->keras-tuner) (0.2.0)\n",
      "Requirement already satisfied: pygments>=2.4.0 in /usr/local/lib/python3.9/dist-packages (from ipython->keras-tuner) (2.14.0)\n",
      "Requirement already satisfied: urllib3<1.27,>=1.21.1 in /usr/local/lib/python3.9/dist-packages (from requests->keras-tuner) (1.26.14)\n",
      "Requirement already satisfied: certifi>=2017.4.17 in /usr/lib/python3/dist-packages (from requests->keras-tuner) (2019.11.28)\n",
      "Requirement already satisfied: idna<4,>=2.5 in /usr/lib/python3/dist-packages (from requests->keras-tuner) (2.8)\n",
      "Requirement already satisfied: charset-normalizer<4,>=2 in /usr/local/lib/python3.9/dist-packages (from requests->keras-tuner) (2.1.1)\n",
      "Requirement already satisfied: wheel<1.0,>=0.23.0 in /usr/local/lib/python3.9/dist-packages (from astunparse>=1.6.0->tensorflow>=2.0->keras-tuner) (0.35.1)\n",
      "Requirement already satisfied: parso<0.9.0,>=0.8.0 in /usr/local/lib/python3.9/dist-packages (from jedi>=0.16->ipython->keras-tuner) (0.8.3)\n",
      "Requirement already satisfied: ptyprocess>=0.5 in /usr/local/lib/python3.9/dist-packages (from pexpect>4.3->ipython->keras-tuner) (0.7.0)\n",
      "Requirement already satisfied: wcwidth in /usr/local/lib/python3.9/dist-packages (from prompt-toolkit<3.1.0,>3.0.1->ipython->keras-tuner) (0.2.6)\n",
      "Requirement already satisfied: tensorboard-plugin-wit>=1.6.0 in /usr/local/lib/python3.9/dist-packages (from tensorboard<2.10,>=2.9->tensorflow>=2.0->keras-tuner) (1.8.1)\n",
      "Requirement already satisfied: werkzeug>=1.0.1 in /usr/local/lib/python3.9/dist-packages (from tensorboard<2.10,>=2.9->tensorflow>=2.0->keras-tuner) (2.2.2)\n",
      "Requirement already satisfied: google-auth<3,>=1.6.3 in /usr/local/lib/python3.9/dist-packages (from tensorboard<2.10,>=2.9->tensorflow>=2.0->keras-tuner) (2.16.0)\n",
      "Requirement already satisfied: google-auth-oauthlib<0.5,>=0.4.1 in /usr/local/lib/python3.9/dist-packages (from tensorboard<2.10,>=2.9->tensorflow>=2.0->keras-tuner) (0.4.6)\n",
      "Requirement already satisfied: tensorboard-data-server<0.7.0,>=0.6.0 in /usr/local/lib/python3.9/dist-packages (from tensorboard<2.10,>=2.9->tensorflow>=2.0->keras-tuner) (0.6.1)\n",
      "Requirement already satisfied: markdown>=2.6.8 in /usr/local/lib/python3.9/dist-packages (from tensorboard<2.10,>=2.9->tensorflow>=2.0->keras-tuner) (3.4.1)\n",
      "Requirement already satisfied: asttokens>=2.1.0 in /usr/local/lib/python3.9/dist-packages (from stack-data->ipython->keras-tuner) (2.2.1)\n",
      "Requirement already satisfied: pure-eval in /usr/local/lib/python3.9/dist-packages (from stack-data->ipython->keras-tuner) (0.2.2)\n",
      "Requirement already satisfied: executing>=1.2.0 in /usr/local/lib/python3.9/dist-packages (from stack-data->ipython->keras-tuner) (1.2.0)\n",
      "Requirement already satisfied: pyasn1-modules>=0.2.1 in /usr/local/lib/python3.9/dist-packages (from google-auth<3,>=1.6.3->tensorboard<2.10,>=2.9->tensorflow>=2.0->keras-tuner) (0.2.8)\n",
      "Requirement already satisfied: cachetools<6.0,>=2.0.0 in /usr/local/lib/python3.9/dist-packages (from google-auth<3,>=1.6.3->tensorboard<2.10,>=2.9->tensorflow>=2.0->keras-tuner) (5.3.0)\n",
      "Requirement already satisfied: rsa<5,>=3.1.4 in /usr/local/lib/python3.9/dist-packages (from google-auth<3,>=1.6.3->tensorboard<2.10,>=2.9->tensorflow>=2.0->keras-tuner) (4.7.2)\n",
      "Requirement already satisfied: requests-oauthlib>=0.7.0 in /usr/local/lib/python3.9/dist-packages (from google-auth-oauthlib<0.5,>=0.4.1->tensorboard<2.10,>=2.9->tensorflow>=2.0->keras-tuner) (1.3.1)\n",
      "Requirement already satisfied: importlib-metadata>=4.4 in /usr/local/lib/python3.9/dist-packages (from markdown>=2.6.8->tensorboard<2.10,>=2.9->tensorflow>=2.0->keras-tuner) (6.0.0)\n",
      "Requirement already satisfied: MarkupSafe>=2.1.1 in /usr/local/lib/python3.9/dist-packages (from werkzeug>=1.0.1->tensorboard<2.10,>=2.9->tensorflow>=2.0->keras-tuner) (2.1.2)\n",
      "Requirement already satisfied: zipp>=0.5 in /usr/local/lib/python3.9/dist-packages (from importlib-metadata>=4.4->markdown>=2.6.8->tensorboard<2.10,>=2.9->tensorflow>=2.0->keras-tuner) (3.11.0)\n",
      "Requirement already satisfied: pyasn1<0.5.0,>=0.4.6 in /usr/local/lib/python3.9/dist-packages (from pyasn1-modules>=0.2.1->google-auth<3,>=1.6.3->tensorboard<2.10,>=2.9->tensorflow>=2.0->keras-tuner) (0.4.8)\n",
      "Requirement already satisfied: oauthlib>=3.0.0 in /usr/local/lib/python3.9/dist-packages (from requests-oauthlib>=0.7.0->google-auth-oauthlib<0.5,>=0.4.1->tensorboard<2.10,>=2.9->tensorflow>=2.0->keras-tuner) (3.2.2)\n",
      "\u001b[33mWARNING: Running pip as the 'root' user can result in broken permissions and conflicting behaviour with the system package manager. It is recommended to use a virtual environment instead: https://pip.pypa.io/warnings/venv\u001b[0m\u001b[33m\n",
      "\u001b[0m"
     ]
    }
   ],
   "source": [
    "!pip install keras-tuner --upgrade"
   ]
  },
  {
   "cell_type": "code",
   "execution_count": 139,
   "metadata": {
    "execution": {
     "iopub.execute_input": "2023-03-14T14:59:13.695522Z",
     "iopub.status.busy": "2023-03-14T14:59:13.694498Z",
     "iopub.status.idle": "2023-03-14T14:59:13.703264Z",
     "shell.execute_reply": "2023-03-14T14:59:13.702057Z",
     "shell.execute_reply.started": "2023-03-14T14:59:13.695475Z"
    }
   },
   "outputs": [],
   "source": [
    "import pandas as pd\n",
    "import tensorflow as tf\n",
    "import numpy as np\n",
    "import matplotlib.pyplot as plt\n",
    "import re\n",
    "from utils import *\n",
    "from layers import *\n",
    "import keras_tuner\n",
    "from sklearn.preprocessing import RobustScaler, QuantileTransformer, PowerTransformer\n"
   ]
  },
  {
   "cell_type": "code",
   "execution_count": 140,
   "metadata": {
    "execution": {
     "iopub.execute_input": "2023-03-14T14:59:13.704466Z",
     "iopub.status.busy": "2023-03-14T14:59:13.704193Z",
     "iopub.status.idle": "2023-03-14T14:59:28.638245Z",
     "shell.execute_reply": "2023-03-14T14:59:28.637397Z",
     "shell.execute_reply.started": "2023-03-14T14:59:13.704435Z"
    }
   },
   "outputs": [],
   "source": [
    "nrows = 150000\n",
    "x_train_df = pd.read_csv(\"input_training.csv\", index_col=\"ID\")\n",
    "y_train_df = pd.read_csv(\"output_training_gmEd6Zt.csv\", index_col=\"ID\")\n",
    "x_test_df = pd.read_csv(\"input_test.csv\", index_col=\"ID\")\n",
    "\n",
    "if nrows is not None:\n",
    "    x_train_df = x_train_df.iloc[-nrows:]\n",
    "    y_train_df = y_train_df.iloc[-nrows:]\n",
    "\n",
    "y_train_df[\"reod\"] = y_train_df[\"reod\"] + 1\n",
    "\n",
    "train_df = x_train_df.join(y_train_df).copy(deep=True)"
   ]
  },
  {
   "cell_type": "markdown",
   "metadata": {},
   "source": [
    "# Cleaning Data\n",
    "1 - Dealing with NaNs"
   ]
  },
  {
   "cell_type": "code",
   "execution_count": 141,
   "metadata": {
    "execution": {
     "iopub.execute_input": "2023-03-14T14:59:28.640750Z",
     "iopub.status.busy": "2023-03-14T14:59:28.640363Z",
     "iopub.status.idle": "2023-03-14T14:59:28.665681Z",
     "shell.execute_reply": "2023-03-14T14:59:28.664780Z",
     "shell.execute_reply.started": "2023-03-14T14:59:28.640721Z"
    }
   },
   "outputs": [
    {
     "data": {
      "text/plain": [
       "1    12470\n",
       "0     3355\n",
       "2     2969\n",
       "Name: reod, dtype: int64"
      ]
     },
     "execution_count": 141,
     "metadata": {},
     "output_type": "execute_result"
    }
   ],
   "source": [
    "# Check distribution of label on row that contain NaN\n",
    "train_df.loc[(train_df.isna().sum(axis=1) > 10), \"reod\"].value_counts()"
   ]
  },
  {
   "cell_type": "code",
   "execution_count": 142,
   "metadata": {
    "execution": {
     "iopub.execute_input": "2023-03-14T14:59:28.667039Z",
     "iopub.status.busy": "2023-03-14T14:59:28.666764Z",
     "iopub.status.idle": "2023-03-14T14:59:28.814444Z",
     "shell.execute_reply": "2023-03-14T14:59:28.813555Z",
     "shell.execute_reply.started": "2023-03-14T14:59:28.667015Z"
    }
   },
   "outputs": [],
   "source": [
    "#As NaNs are also present in the test dataset, I cannot delete. I chose to replace them with zeros\n",
    "train_df.replace(np.nan, 0, inplace = True)\n",
    "x_test_df.replace(np.nan, 0, inplace = True)"
   ]
  },
  {
   "cell_type": "markdown",
   "metadata": {},
   "source": [
    "2 - Plot data"
   ]
  },
  {
   "cell_type": "code",
   "execution_count": 143,
   "metadata": {
    "execution": {
     "iopub.execute_input": "2023-03-14T14:59:28.816134Z",
     "iopub.status.busy": "2023-03-14T14:59:28.815858Z",
     "iopub.status.idle": "2023-03-14T14:59:30.477004Z",
     "shell.execute_reply": "2023-03-14T14:59:30.475988Z",
     "shell.execute_reply.started": "2023-03-14T14:59:28.816108Z"
    }
   },
   "outputs": [],
   "source": [
    "r_filter = re.compile(\"r[0-9]+\")\n",
    "\n",
    "train_df[\"total_r0-52\"] = list(map(\n",
    "    composed_bps_returns,\n",
    "    train_df[list(filter(r_filter.match, train_df.columns))].to_numpy()\n",
    "    ))"
   ]
  },
  {
   "cell_type": "code",
   "execution_count": 144,
   "metadata": {
    "execution": {
     "iopub.execute_input": "2023-03-14T14:59:30.478480Z",
     "iopub.status.busy": "2023-03-14T14:59:30.478211Z",
     "iopub.status.idle": "2023-03-14T14:59:30.483951Z",
     "shell.execute_reply": "2023-03-14T14:59:30.482616Z",
     "shell.execute_reply.started": "2023-03-14T14:59:30.478441Z"
    }
   },
   "outputs": [],
   "source": [
    "#plot_matrix(train_df, \"day\", \"equity\", \"total_r0-52\", lambda x : list(x)[0])"
   ]
  },
  {
   "cell_type": "markdown",
   "metadata": {},
   "source": [
    "# Add features\n",
    "1 - Time features (day of the week)"
   ]
  },
  {
   "cell_type": "code",
   "execution_count": 145,
   "metadata": {
    "execution": {
     "iopub.execute_input": "2023-03-14T14:59:30.485704Z",
     "iopub.status.busy": "2023-03-14T14:59:30.485163Z",
     "iopub.status.idle": "2023-03-14T14:59:30.522980Z",
     "shell.execute_reply": "2023-03-14T14:59:30.521949Z",
     "shell.execute_reply.started": "2023-03-14T14:59:30.485679Z"
    }
   },
   "outputs": [],
   "source": [
    "train_df[\"week_day\"] = train_df[\"day\"].apply(lambda x : x % 5)\n",
    "#plot_matrix(train_df,\"week_day\", \"equity\", \"total_r0-52\", lambda x : list(x)[0], x_lim=20)"
   ]
  },
  {
   "cell_type": "markdown",
   "metadata": {},
   "source": [
    "# Preprocess"
   ]
  },
  {
   "cell_type": "code",
   "execution_count": 146,
   "metadata": {
    "execution": {
     "iopub.execute_input": "2023-03-14T14:59:30.524527Z",
     "iopub.status.busy": "2023-03-14T14:59:30.524263Z",
     "iopub.status.idle": "2023-03-14T14:59:30.529825Z",
     "shell.execute_reply": "2023-03-14T14:59:30.528543Z",
     "shell.execute_reply.started": "2023-03-14T14:59:30.524502Z"
    }
   },
   "outputs": [],
   "source": [
    "features_columns = list(filter(r_filter.match, train_df.columns)) # + [\"week_day\", \"total_r0-52\"]\n",
    "preprocessed_features_columns = [f\"preprocessed_{col}\" for col in features_columns]"
   ]
  },
  {
   "cell_type": "code",
   "execution_count": 147,
   "metadata": {
    "execution": {
     "iopub.execute_input": "2023-03-14T14:59:30.532784Z",
     "iopub.status.busy": "2023-03-14T14:59:30.532534Z",
     "iopub.status.idle": "2023-03-14T14:59:30.857399Z",
     "shell.execute_reply": "2023-03-14T14:59:30.855586Z",
     "shell.execute_reply.started": "2023-03-14T14:59:30.532760Z"
    }
   },
   "outputs": [],
   "source": [
    "train_df.sort_values(by=\"day\", inplace= True) # Sort by day to get as close as possible from the test dataset conditions with my validation dataset\n",
    "\n",
    "train_ratio = 0.8\n",
    "train_limit = int(train_ratio*len(train_df))\n",
    "\n",
    "X_train = train_df[features_columns].iloc[:train_limit].to_numpy()\n",
    "y_train = tf.keras.utils.to_categorical(train_df['reod'].iloc[:train_limit], num_classes=3)\n",
    "\n",
    "X_validation = train_df[features_columns].iloc[train_limit:].to_numpy()\n",
    "y_validation = tf.keras.utils.to_categorical(train_df['reod'].iloc[train_limit:], num_classes=3)\n",
    "\n",
    "X_test = x_test_df[features_columns].to_numpy()"
   ]
  },
  {
   "cell_type": "markdown",
   "metadata": {},
   "source": [
    "# Model"
   ]
  },
  {
   "cell_type": "code",
   "execution_count": 149,
   "metadata": {
    "execution": {
     "iopub.execute_input": "2023-03-14T15:02:32.474893Z",
     "iopub.status.busy": "2023-03-14T15:02:32.474531Z",
     "iopub.status.idle": "2023-03-14T15:02:32.493896Z",
     "shell.execute_reply": "2023-03-14T15:02:32.492667Z",
     "shell.execute_reply.started": "2023-03-14T15:02:32.474867Z"
    }
   },
   "outputs": [],
   "source": [
    "\n",
    "def reccurent_layer(type, *args, **kwargs):\n",
    "    if type == \"LSTM\":\n",
    "        return tf.keras.layers.LSTM(*args, **kwargs)\n",
    "    elif type == \"GRU\":\n",
    "        return tf.keras.layers.GRU(*args, **kwargs)\n",
    "    raise ValueError(f\"Type args is wrong : '{type}' while it should be 'LSTM' or 'GRU'\")\n",
    "\n",
    "def optimizer(type, *args, **kwargs):\n",
    "    if type == \"adam\":\n",
    "        return tf.keras.optimizers.Adam(*args, **kwargs)\n",
    "    elif type == \"rmsprop\":\n",
    "        return tf.keras.optimizers.RMSprop(*args, **kwargs)\n",
    "    raise ValueError(f\"Type args is wrong : '{type}' while it should be 'adam' or 'rmsprop'\")\n",
    "\n",
    "\n",
    "class MyHyperModel(keras_tuner.HyperModel):\n",
    "    def __init__(self, X_train, y_train, X_validation, y_validation, *args, **kwargs):\n",
    "        super().__init__(*args, **kwargs)\n",
    "        self.X_train = X_train\n",
    "        self.X_validation = X_validation\n",
    "        self.y_train = y_train\n",
    "        self.y_validation = y_validation\n",
    "\n",
    "        self.tranformer_robust = RobustScaler(unit_variance = True, with_centering= True).fit(X_train)\n",
    "        self.tranformer_quantile = QuantileTransformer(output_distribution='normal').fit(X_train)\n",
    "        self.tranformer_power = PowerTransformer(method='yeo-johnson', standardize=True).fit(X_train)\n",
    "\n",
    "        self.X_train_robust = self.tranformer_robust.transform(X_train)[:, :, np.newaxis]\n",
    "        self.X_train_quantile = self.tranformer_quantile.transform(X_train)[:, :, np.newaxis]\n",
    "        self.X_train_power = self.tranformer_power.transform(X_train)[:, :, np.newaxis]\n",
    "        self.X_validation_robust = self.tranformer_robust.transform(X_validation)[:, :, np.newaxis]\n",
    "        self.X_validation_quantile = self.tranformer_quantile.transform(X_validation)[:, :, np.newaxis]\n",
    "        self.X_validation_power = self.tranformer_power.transform(X_validation)[:, :, np.newaxis]\n",
    "\n",
    "\n",
    "\n",
    "    \n",
    "    def build(self, hp):\n",
    "        nb_reccurrent_layers = hp.Int(\"nb_reccurrent_layers\", min_value = 1, max_value = 4, step=1)\n",
    "        reccurrent_unit = hp.Int(\"reccurrent_unit\", min_value = 4, max_value = 512, sampling = \"log\")\n",
    "        reccurrent_dropout = hp.Float(\"reccurrent_dropout\", min_value = 0, max_value = 0.3, sampling = \"linear\")\n",
    "        reccurent_type = hp.Choice(\"reccurent_type\", [\"LSTM\", \"GRU\"])\n",
    "        attention_layer = hp.Boolean(\"attention_layer\")\n",
    "        learning_rate = hp.Float(\"learning_rate\",  1E-5, 1E-2, sampling = \"log\")\n",
    "        opt_type = hp.Choice(\"optimizer\", [\"adam\", \"rmsprop\"])\n",
    "        \n",
    "        layers = []\n",
    "        \n",
    "        for i in range(nb_reccurrent_layers - 1):\n",
    "            layers.append(reccurent_layer(reccurent_type, reccurrent_unit, dropout = reccurrent_dropout, return_sequences = True))\n",
    "        \n",
    "        if attention_layer:layers.append(AttentionLayer(reccurrent_unit, dropout = reccurrent_dropout))\n",
    "        else:layers.append(reccurent_layer(reccurent_type, reccurrent_unit, dropout = reccurrent_dropout, return_sequences = False))\n",
    "\n",
    "        \n",
    "        layers.append(tf.keras.layers.Dense(3, activation= \"softmax\"))\n",
    "\n",
    "        model = tf.keras.models.Sequential(layers)\n",
    "        \n",
    "        model.compile(\n",
    "            optimizer = optimizer(opt_type, learning_rate = learning_rate),\n",
    "            loss = hp.Choice(\"loss\", [\"categorical_crossentropy\", \"categorical_hinge\"]), \n",
    "            metrics=[\"acc\"]\n",
    "        )\n",
    "        \n",
    "        return model\n",
    "    \n",
    "    \n",
    "    def fit(self, hp, model, *args, **kwargs):\n",
    "        preprocessing_method = hp.Choice(\"preprocess\", [\"robust_scale\", \"power_transform\", \"quantile_transform\", \"none\"])\n",
    "        if preprocessing_method == \"robust_scale\":\n",
    "            X_train = self.X_train_robust\n",
    "            X_validation = self.X_validation_robust\n",
    "        elif preprocessing_method == \"quantile_transform\":\n",
    "            X_train = self.X_train_quantile\n",
    "            X_validation = self.X_validation_quantile\n",
    "        elif preprocessing_method == \"power_transform\":\n",
    "            X_train = self.X_train_power\n",
    "            X_validation = self.X_validation_power\n",
    "        else:\n",
    "            raise ValueError(f\"Preprocessing method is invalid : '{preprocessing_method}'\")\n",
    "            \n",
    "        seq_len = hp.Int(\"seq_len\", min_value = 5, max_value = X_train.shape[1], step=1)\n",
    "\n",
    "        \n",
    "        return model.fit(\n",
    "            X_train[:, -seq_len:, :], self.y_train,\n",
    "            validation_data = (X_validation[:, -seq_len:, :], self.y_validation),\n",
    "            *args, **kwargs\n",
    "        )"
   ]
  },
  {
   "cell_type": "code",
   "execution_count": 152,
   "metadata": {
    "execution": {
     "iopub.execute_input": "2023-03-14T15:02:53.619580Z",
     "iopub.status.busy": "2023-03-14T15:02:53.619243Z",
     "iopub.status.idle": "2023-03-14T15:03:01.936779Z",
     "shell.execute_reply": "2023-03-14T15:03:01.935843Z",
     "shell.execute_reply.started": "2023-03-14T15:02:53.619554Z"
    }
   },
   "outputs": [],
   "source": [
    "tuner = keras_tuner.Hyperband(\n",
    "    MyHyperModel(X_train, y_train, X_validation, y_validation),\n",
    "    objective=\"val_acc\",\n",
    "    max_epochs=30,\n",
    "    factor=2,\n",
    "    hyperband_iterations=1,\n",
    "    directory=\"keras_tuner_checkpoints\",\n",
    "    project_name=\"tune_hypermodel2\",\n",
    ")\n",
    "\n",
    "stop_early = tf.keras.callbacks.EarlyStopping(monitor='val_acc', patience=5, mode='min')"
   ]
  },
  {
   "cell_type": "code",
   "execution_count": 153,
   "metadata": {
    "execution": {
     "iopub.execute_input": "2023-03-14T15:03:02.681314Z",
     "iopub.status.busy": "2023-03-14T15:03:02.680329Z",
     "iopub.status.idle": "2023-03-14T15:52:07.970977Z",
     "shell.execute_reply": "2023-03-14T15:52:07.969390Z",
     "shell.execute_reply.started": "2023-03-14T15:03:02.681284Z"
    }
   },
   "outputs": [
    {
     "name": "stdout",
     "output_type": "stream",
     "text": [
      "Trial 41 Complete [00h 00m 00s]\n",
      "\n",
      "Best val_acc So Far: 0.4814999997615814\n",
      "Total elapsed time: 00h 49m 04s\n",
      "\n",
      "Search: Running Trial #42\n",
      "\n",
      "Value             |Best Value So Far |Hyperparameter\n",
      "1                 |1                 |nb_reccurrent_layers\n",
      "99                |141               |reccurrent_unit\n",
      "0.21614           |0.16375           |reccurrent_dropout\n",
      "LSTM              |GRU               |reccurent_type\n",
      "True              |False             |attention_layer\n",
      "2.0841e-05        |0.0025691         |learning_rate\n",
      "rmsprop           |rmsprop           |optimizer\n",
      "categorical_hinge |categorical_cro...|loss\n",
      "power_transform   |robust_scale      |preprocess\n",
      "51                |40                |seq_len\n",
      "8                 |4                 |tuner/epochs\n",
      "0                 |0                 |tuner/initial_epoch\n",
      "2                 |3                 |tuner/bracket\n",
      "0                 |0                 |tuner/round\n",
      "\n",
      "Epoch 1/8\n"
     ]
    },
    {
     "name": "stderr",
     "output_type": "stream",
     "text": [
      "Traceback (most recent call last):\n",
      "  File \"/usr/local/lib/python3.9/dist-packages/keras_tuner/engine/base_tuner.py\", line 266, in _try_run_and_update_trial\n",
      "    self._run_and_update_trial(trial, *fit_args, **fit_kwargs)\n",
      "  File \"/usr/local/lib/python3.9/dist-packages/keras_tuner/engine/base_tuner.py\", line 231, in _run_and_update_trial\n",
      "    results = self.run_trial(trial, *fit_args, **fit_kwargs)\n",
      "  File \"/usr/local/lib/python3.9/dist-packages/keras_tuner/tuners/hyperband.py\", line 419, in run_trial\n",
      "    return super().run_trial(trial, *fit_args, **fit_kwargs)\n",
      "  File \"/usr/local/lib/python3.9/dist-packages/keras_tuner/engine/tuner.py\", line 287, in run_trial\n",
      "    obj_value = self._build_and_fit_model(trial, *args, **copied_kwargs)\n",
      "  File \"/usr/local/lib/python3.9/dist-packages/keras_tuner/engine/tuner.py\", line 214, in _build_and_fit_model\n",
      "    results = self.hypermodel.fit(hp, model, *args, **kwargs)\n",
      "  File \"/tmp/ipykernel_32/1106451357.py\", line 86, in fit\n",
      "    return model.fit(\n",
      "  File \"/usr/local/lib/python3.9/dist-packages/keras/utils/traceback_utils.py\", line 67, in error_handler\n",
      "    raise e.with_traceback(filtered_tb) from None\n",
      "  File \"/tmp/__autograph_generated_filebz590yem.py\", line 15, in tf__train_function\n",
      "    retval_ = ag__.converted_call(ag__.ld(step_function), (ag__.ld(self), ag__.ld(iterator)), None, fscope)\n",
      "  File \"/tmp/__autograph_generated_file6vle0q6p.py\", line 11, in tf__call\n",
      "    score = ag__.converted_call(ag__.ld(tf).nn.tanh, (ag__.converted_call(ag__.ld(tf).matmul, (ag__.ld(hidden_states), ag__.ld(self).W1), None, fscope),), None, fscope)\n",
      "ValueError: in user code:\n",
      "\n",
      "    File \"/usr/local/lib/python3.9/dist-packages/keras/engine/training.py\", line 1051, in train_function  *\n",
      "        return step_function(self, iterator)\n",
      "    File \"/usr/local/lib/python3.9/dist-packages/keras/engine/training.py\", line 1040, in step_function  **\n",
      "        outputs = model.distribute_strategy.run(run_step, args=(data,))\n",
      "    File \"/usr/local/lib/python3.9/dist-packages/keras/engine/training.py\", line 1030, in run_step  **\n",
      "        outputs = model.train_step(data)\n",
      "    File \"/usr/local/lib/python3.9/dist-packages/keras/engine/training.py\", line 889, in train_step\n",
      "        y_pred = self(x, training=True)\n",
      "    File \"/usr/local/lib/python3.9/dist-packages/keras/utils/traceback_utils.py\", line 67, in error_handler\n",
      "        raise e.with_traceback(filtered_tb) from None\n",
      "    File \"/tmp/__autograph_generated_file6vle0q6p.py\", line 11, in tf__call\n",
      "        score = ag__.converted_call(ag__.ld(tf).nn.tanh, (ag__.converted_call(ag__.ld(tf).matmul, (ag__.ld(hidden_states), ag__.ld(self).W1), None, fscope),), None, fscope)\n",
      "\n",
      "    ValueError: Exception encountered when calling layer \"attention_layer\" (type AttentionLayer).\n",
      "    \n",
      "    in user code:\n",
      "    \n",
      "        File \"/notebooks/layers.py\", line 20, in call  *\n",
      "            score = tf.nn.tanh(tf.matmul(hidden_states, self.W1))\n",
      "    \n",
      "        ValueError: Dimensions must be equal, but are 99 and 1 for '{{node sequential/attention_layer/MatMul}} = BatchMatMulV2[T=DT_FLOAT, adj_x=false, adj_y=false](sequential/attention_layer/gru/PartitionedCall:1, sequential/attention_layer/MatMul/ReadVariableOp)' with input shapes: [32,51,99], [1,99].\n",
      "    \n",
      "    \n",
      "    Call arguments received by layer \"attention_layer\" (type AttentionLayer):\n",
      "      • inputs=tf.Tensor(shape=(32, 51, 1), dtype=float32)\n",
      "\n"
     ]
    },
    {
     "ename": "RuntimeError",
     "evalue": "Number of consecutive failures excceeded the limit of 3.\nTraceback (most recent call last):\n  File \"/usr/local/lib/python3.9/dist-packages/keras_tuner/engine/base_tuner.py\", line 266, in _try_run_and_update_trial\n    self._run_and_update_trial(trial, *fit_args, **fit_kwargs)\n  File \"/usr/local/lib/python3.9/dist-packages/keras_tuner/engine/base_tuner.py\", line 231, in _run_and_update_trial\n    results = self.run_trial(trial, *fit_args, **fit_kwargs)\n  File \"/usr/local/lib/python3.9/dist-packages/keras_tuner/tuners/hyperband.py\", line 419, in run_trial\n    return super().run_trial(trial, *fit_args, **fit_kwargs)\n  File \"/usr/local/lib/python3.9/dist-packages/keras_tuner/engine/tuner.py\", line 287, in run_trial\n    obj_value = self._build_and_fit_model(trial, *args, **copied_kwargs)\n  File \"/usr/local/lib/python3.9/dist-packages/keras_tuner/engine/tuner.py\", line 214, in _build_and_fit_model\n    results = self.hypermodel.fit(hp, model, *args, **kwargs)\n  File \"/tmp/ipykernel_32/1106451357.py\", line 86, in fit\n    return model.fit(\n  File \"/usr/local/lib/python3.9/dist-packages/keras/utils/traceback_utils.py\", line 67, in error_handler\n    raise e.with_traceback(filtered_tb) from None\n  File \"/tmp/__autograph_generated_filebz590yem.py\", line 15, in tf__train_function\n    retval_ = ag__.converted_call(ag__.ld(step_function), (ag__.ld(self), ag__.ld(iterator)), None, fscope)\n  File \"/tmp/__autograph_generated_file6vle0q6p.py\", line 11, in tf__call\n    score = ag__.converted_call(ag__.ld(tf).nn.tanh, (ag__.converted_call(ag__.ld(tf).matmul, (ag__.ld(hidden_states), ag__.ld(self).W1), None, fscope),), None, fscope)\nValueError: in user code:\n\n    File \"/usr/local/lib/python3.9/dist-packages/keras/engine/training.py\", line 1051, in train_function  *\n        return step_function(self, iterator)\n    File \"/usr/local/lib/python3.9/dist-packages/keras/engine/training.py\", line 1040, in step_function  **\n        outputs = model.distribute_strategy.run(run_step, args=(data,))\n    File \"/usr/local/lib/python3.9/dist-packages/keras/engine/training.py\", line 1030, in run_step  **\n        outputs = model.train_step(data)\n    File \"/usr/local/lib/python3.9/dist-packages/keras/engine/training.py\", line 889, in train_step\n        y_pred = self(x, training=True)\n    File \"/usr/local/lib/python3.9/dist-packages/keras/utils/traceback_utils.py\", line 67, in error_handler\n        raise e.with_traceback(filtered_tb) from None\n    File \"/tmp/__autograph_generated_file6vle0q6p.py\", line 11, in tf__call\n        score = ag__.converted_call(ag__.ld(tf).nn.tanh, (ag__.converted_call(ag__.ld(tf).matmul, (ag__.ld(hidden_states), ag__.ld(self).W1), None, fscope),), None, fscope)\n\n    ValueError: Exception encountered when calling layer \"attention_layer\" (type AttentionLayer).\n    \n    in user code:\n    \n        File \"/notebooks/layers.py\", line 20, in call  *\n            score = tf.nn.tanh(tf.matmul(hidden_states, self.W1))\n    \n        ValueError: Dimensions must be equal, but are 99 and 1 for '{{node sequential/attention_layer/MatMul}} = BatchMatMulV2[T=DT_FLOAT, adj_x=false, adj_y=false](sequential/attention_layer/gru/PartitionedCall:1, sequential/attention_layer/MatMul/ReadVariableOp)' with input shapes: [32,51,99], [1,99].\n    \n    \n    Call arguments received by layer \"attention_layer\" (type AttentionLayer):\n      • inputs=tf.Tensor(shape=(32, 51, 1), dtype=float32)\n\n",
     "output_type": "error",
     "traceback": [
      "\u001b[0;31m---------------------------------------------------------------------------\u001b[0m",
      "\u001b[0;31mRuntimeError\u001b[0m                              Traceback (most recent call last)",
      "Cell \u001b[0;32mIn [153], line 1\u001b[0m\n\u001b[0;32m----> 1\u001b[0m \u001b[43mtuner\u001b[49m\u001b[38;5;241;43m.\u001b[39;49m\u001b[43msearch\u001b[49m\u001b[43m(\u001b[49m\u001b[43mcallbacks\u001b[49m\u001b[43m \u001b[49m\u001b[38;5;241;43m=\u001b[39;49m\u001b[43m \u001b[49m\u001b[43m[\u001b[49m\u001b[43mstop_early\u001b[49m\u001b[43m]\u001b[49m\u001b[43m)\u001b[49m\n",
      "File \u001b[0;32m/usr/local/lib/python3.9/dist-packages/keras_tuner/engine/base_tuner.py:227\u001b[0m, in \u001b[0;36mBaseTuner.search\u001b[0;34m(self, *fit_args, **fit_kwargs)\u001b[0m\n\u001b[1;32m    225\u001b[0m     \u001b[38;5;28mself\u001b[39m\u001b[38;5;241m.\u001b[39mon_trial_begin(trial)\n\u001b[1;32m    226\u001b[0m     \u001b[38;5;28mself\u001b[39m\u001b[38;5;241m.\u001b[39m_try_run_and_update_trial(trial, \u001b[38;5;241m*\u001b[39mfit_args, \u001b[38;5;241m*\u001b[39m\u001b[38;5;241m*\u001b[39mfit_kwargs)\n\u001b[0;32m--> 227\u001b[0m     \u001b[38;5;28;43mself\u001b[39;49m\u001b[38;5;241;43m.\u001b[39;49m\u001b[43mon_trial_end\u001b[49m\u001b[43m(\u001b[49m\u001b[43mtrial\u001b[49m\u001b[43m)\u001b[49m\n\u001b[1;32m    228\u001b[0m \u001b[38;5;28mself\u001b[39m\u001b[38;5;241m.\u001b[39mon_search_end()\n",
      "File \u001b[0;32m/usr/local/lib/python3.9/dist-packages/keras_tuner/engine/base_tuner.py:331\u001b[0m, in \u001b[0;36mBaseTuner.on_trial_end\u001b[0;34m(self, trial)\u001b[0m\n\u001b[1;32m    325\u001b[0m \u001b[38;5;28;01mdef\u001b[39;00m \u001b[38;5;21mon_trial_end\u001b[39m(\u001b[38;5;28mself\u001b[39m, trial):\n\u001b[1;32m    326\u001b[0m \u001b[38;5;250m    \u001b[39m\u001b[38;5;124;03m\"\"\"Called at the end of a trial.\u001b[39;00m\n\u001b[1;32m    327\u001b[0m \n\u001b[1;32m    328\u001b[0m \u001b[38;5;124;03m    Args:\u001b[39;00m\n\u001b[1;32m    329\u001b[0m \u001b[38;5;124;03m        trial: A `Trial` instance.\u001b[39;00m\n\u001b[1;32m    330\u001b[0m \u001b[38;5;124;03m    \"\"\"\u001b[39;00m\n\u001b[0;32m--> 331\u001b[0m     \u001b[38;5;28;43mself\u001b[39;49m\u001b[38;5;241;43m.\u001b[39;49m\u001b[43moracle\u001b[49m\u001b[38;5;241;43m.\u001b[39;49m\u001b[43mend_trial\u001b[49m\u001b[43m(\u001b[49m\u001b[43mtrial\u001b[49m\u001b[43m)\u001b[49m\n\u001b[1;32m    332\u001b[0m     \u001b[38;5;66;03m# Display needs the updated trial scored by the Oracle.\u001b[39;00m\n\u001b[1;32m    333\u001b[0m     \u001b[38;5;28mself\u001b[39m\u001b[38;5;241m.\u001b[39m_display\u001b[38;5;241m.\u001b[39mon_trial_end(\u001b[38;5;28mself\u001b[39m\u001b[38;5;241m.\u001b[39moracle\u001b[38;5;241m.\u001b[39mget_trial(trial\u001b[38;5;241m.\u001b[39mtrial_id))\n",
      "File \u001b[0;32m/usr/local/lib/python3.9/dist-packages/keras_tuner/engine/oracle.py:108\u001b[0m, in \u001b[0;36msynchronized.<locals>.wrapped_func\u001b[0;34m(*args, **kwargs)\u001b[0m\n\u001b[1;32m    106\u001b[0m     LOCKS[oracle]\u001b[38;5;241m.\u001b[39macquire()\n\u001b[1;32m    107\u001b[0m     THREADS[oracle] \u001b[38;5;241m=\u001b[39m thread_name\n\u001b[0;32m--> 108\u001b[0m ret_val \u001b[38;5;241m=\u001b[39m \u001b[43mfunc\u001b[49m\u001b[43m(\u001b[49m\u001b[38;5;241;43m*\u001b[39;49m\u001b[43margs\u001b[49m\u001b[43m,\u001b[49m\u001b[43m \u001b[49m\u001b[38;5;241;43m*\u001b[39;49m\u001b[38;5;241;43m*\u001b[39;49m\u001b[43mkwargs\u001b[49m\u001b[43m)\u001b[49m\n\u001b[1;32m    109\u001b[0m \u001b[38;5;28;01mif\u001b[39;00m need_acquire:\n\u001b[1;32m    110\u001b[0m     THREADS[oracle] \u001b[38;5;241m=\u001b[39m \u001b[38;5;28;01mNone\u001b[39;00m\n",
      "File \u001b[0;32m/usr/local/lib/python3.9/dist-packages/keras_tuner/engine/oracle.py:435\u001b[0m, in \u001b[0;36mOracle.end_trial\u001b[0;34m(self, trial)\u001b[0m\n\u001b[1;32m    433\u001b[0m \u001b[38;5;28;01mif\u001b[39;00m \u001b[38;5;129;01mnot\u001b[39;00m \u001b[38;5;28mself\u001b[39m\u001b[38;5;241m.\u001b[39m_retry(trial):\n\u001b[1;32m    434\u001b[0m     \u001b[38;5;28mself\u001b[39m\u001b[38;5;241m.\u001b[39mend_order\u001b[38;5;241m.\u001b[39mappend(trial\u001b[38;5;241m.\u001b[39mtrial_id)\n\u001b[0;32m--> 435\u001b[0m     \u001b[38;5;28;43mself\u001b[39;49m\u001b[38;5;241;43m.\u001b[39;49m\u001b[43m_check_consecutive_failures\u001b[49m\u001b[43m(\u001b[49m\u001b[43m)\u001b[49m\n\u001b[1;32m    437\u001b[0m \u001b[38;5;28mself\u001b[39m\u001b[38;5;241m.\u001b[39m_save_trial(trial)\n\u001b[1;32m    438\u001b[0m \u001b[38;5;28mself\u001b[39m\u001b[38;5;241m.\u001b[39msave()\n",
      "File \u001b[0;32m/usr/local/lib/python3.9/dist-packages/keras_tuner/engine/oracle.py:387\u001b[0m, in \u001b[0;36mOracle._check_consecutive_failures\u001b[0;34m(self)\u001b[0m\n\u001b[1;32m    385\u001b[0m     consecutive_failures \u001b[38;5;241m=\u001b[39m \u001b[38;5;241m0\u001b[39m\n\u001b[1;32m    386\u001b[0m \u001b[38;5;28;01mif\u001b[39;00m consecutive_failures \u001b[38;5;241m==\u001b[39m \u001b[38;5;28mself\u001b[39m\u001b[38;5;241m.\u001b[39mmax_consecutive_failed_trials:\n\u001b[0;32m--> 387\u001b[0m     \u001b[38;5;28;01mraise\u001b[39;00m \u001b[38;5;167;01mRuntimeError\u001b[39;00m(\n\u001b[1;32m    388\u001b[0m         \u001b[38;5;124m\"\u001b[39m\u001b[38;5;124mNumber of consecutive failures excceeded the limit \u001b[39m\u001b[38;5;124m\"\u001b[39m\n\u001b[1;32m    389\u001b[0m         \u001b[38;5;124mf\u001b[39m\u001b[38;5;124m\"\u001b[39m\u001b[38;5;124mof \u001b[39m\u001b[38;5;132;01m{\u001b[39;00m\u001b[38;5;28mself\u001b[39m\u001b[38;5;241m.\u001b[39mmax_consecutive_failed_trials\u001b[38;5;132;01m}\u001b[39;00m\u001b[38;5;124m.\u001b[39m\u001b[38;5;130;01m\\n\u001b[39;00m\u001b[38;5;124m\"\u001b[39m\n\u001b[1;32m    390\u001b[0m         \u001b[38;5;241m+\u001b[39m trial\u001b[38;5;241m.\u001b[39mmessage\n\u001b[1;32m    391\u001b[0m     )\n",
      "\u001b[0;31mRuntimeError\u001b[0m: Number of consecutive failures excceeded the limit of 3.\nTraceback (most recent call last):\n  File \"/usr/local/lib/python3.9/dist-packages/keras_tuner/engine/base_tuner.py\", line 266, in _try_run_and_update_trial\n    self._run_and_update_trial(trial, *fit_args, **fit_kwargs)\n  File \"/usr/local/lib/python3.9/dist-packages/keras_tuner/engine/base_tuner.py\", line 231, in _run_and_update_trial\n    results = self.run_trial(trial, *fit_args, **fit_kwargs)\n  File \"/usr/local/lib/python3.9/dist-packages/keras_tuner/tuners/hyperband.py\", line 419, in run_trial\n    return super().run_trial(trial, *fit_args, **fit_kwargs)\n  File \"/usr/local/lib/python3.9/dist-packages/keras_tuner/engine/tuner.py\", line 287, in run_trial\n    obj_value = self._build_and_fit_model(trial, *args, **copied_kwargs)\n  File \"/usr/local/lib/python3.9/dist-packages/keras_tuner/engine/tuner.py\", line 214, in _build_and_fit_model\n    results = self.hypermodel.fit(hp, model, *args, **kwargs)\n  File \"/tmp/ipykernel_32/1106451357.py\", line 86, in fit\n    return model.fit(\n  File \"/usr/local/lib/python3.9/dist-packages/keras/utils/traceback_utils.py\", line 67, in error_handler\n    raise e.with_traceback(filtered_tb) from None\n  File \"/tmp/__autograph_generated_filebz590yem.py\", line 15, in tf__train_function\n    retval_ = ag__.converted_call(ag__.ld(step_function), (ag__.ld(self), ag__.ld(iterator)), None, fscope)\n  File \"/tmp/__autograph_generated_file6vle0q6p.py\", line 11, in tf__call\n    score = ag__.converted_call(ag__.ld(tf).nn.tanh, (ag__.converted_call(ag__.ld(tf).matmul, (ag__.ld(hidden_states), ag__.ld(self).W1), None, fscope),), None, fscope)\nValueError: in user code:\n\n    File \"/usr/local/lib/python3.9/dist-packages/keras/engine/training.py\", line 1051, in train_function  *\n        return step_function(self, iterator)\n    File \"/usr/local/lib/python3.9/dist-packages/keras/engine/training.py\", line 1040, in step_function  **\n        outputs = model.distribute_strategy.run(run_step, args=(data,))\n    File \"/usr/local/lib/python3.9/dist-packages/keras/engine/training.py\", line 1030, in run_step  **\n        outputs = model.train_step(data)\n    File \"/usr/local/lib/python3.9/dist-packages/keras/engine/training.py\", line 889, in train_step\n        y_pred = self(x, training=True)\n    File \"/usr/local/lib/python3.9/dist-packages/keras/utils/traceback_utils.py\", line 67, in error_handler\n        raise e.with_traceback(filtered_tb) from None\n    File \"/tmp/__autograph_generated_file6vle0q6p.py\", line 11, in tf__call\n        score = ag__.converted_call(ag__.ld(tf).nn.tanh, (ag__.converted_call(ag__.ld(tf).matmul, (ag__.ld(hidden_states), ag__.ld(self).W1), None, fscope),), None, fscope)\n\n    ValueError: Exception encountered when calling layer \"attention_layer\" (type AttentionLayer).\n    \n    in user code:\n    \n        File \"/notebooks/layers.py\", line 20, in call  *\n            score = tf.nn.tanh(tf.matmul(hidden_states, self.W1))\n    \n        ValueError: Dimensions must be equal, but are 99 and 1 for '{{node sequential/attention_layer/MatMul}} = BatchMatMulV2[T=DT_FLOAT, adj_x=false, adj_y=false](sequential/attention_layer/gru/PartitionedCall:1, sequential/attention_layer/MatMul/ReadVariableOp)' with input shapes: [32,51,99], [1,99].\n    \n    \n    Call arguments received by layer \"attention_layer\" (type AttentionLayer):\n      • inputs=tf.Tensor(shape=(32, 51, 1), dtype=float32)\n\n"
     ]
    }
   ],
   "source": [
    "tuner.search(callbacks = [stop_early])"
   ]
  },
  {
   "cell_type": "code",
   "execution_count": null,
   "metadata": {
    "execution": {
     "iopub.status.busy": "2023-03-14T14:59:30.885816Z",
     "iopub.status.idle": "2023-03-14T14:59:30.886153Z",
     "shell.execute_reply": "2023-03-14T14:59:30.886004Z",
     "shell.execute_reply.started": "2023-03-14T14:59:30.885987Z"
    }
   },
   "outputs": [],
   "source": [
    "#import shutil\n",
    "#shutil.rmtree('/notebooks/keras_tuner_checkpoints/tune_hypermodel')"
   ]
  },
  {
   "cell_type": "markdown",
   "metadata": {},
   "source": [
    "# Test best models"
   ]
  },
  {
   "cell_type": "code",
   "execution_count": null,
   "metadata": {
    "execution": {
     "iopub.status.busy": "2023-03-14T14:59:30.887119Z",
     "iopub.status.idle": "2023-03-14T14:59:30.887427Z",
     "shell.execute_reply": "2023-03-14T14:59:30.887293Z",
     "shell.execute_reply.started": "2023-03-14T14:59:30.887277Z"
    }
   },
   "outputs": [],
   "source": [
    "dict_best_hp = { key:[] for key in tuner.get_best_hyperparameters()[0].values.keys()}\n",
    "list_best_hp = tuner.get_best_hyperparameters(num_trials= 10)\n",
    "for i in range(10):\n",
    "    for key in dict_best_hp.keys():\n",
    "        dict_best_hp[key].append(list_best_hp[i].values[key] if key in list_best_hp[i].values.keys() else None)\n",
    "pd.DataFrame(dict_best_hp)"
   ]
  },
  {
   "cell_type": "code",
   "execution_count": 164,
   "metadata": {
    "execution": {
     "iopub.execute_input": "2023-03-14T16:45:34.132556Z",
     "iopub.status.busy": "2023-03-14T16:45:34.132172Z",
     "iopub.status.idle": "2023-03-14T16:46:43.431643Z",
     "shell.execute_reply": "2023-03-14T16:46:43.430398Z",
     "shell.execute_reply.started": "2023-03-14T16:45:34.132528Z"
    }
   },
   "outputs": [
    {
     "name": "stdout",
     "output_type": "stream",
     "text": [
      "Epoch 1/20\n",
      "1250/1250 [==============================] - 18s 11ms/step - loss: 1.0623 - acc: 0.4115 - val_loss: 1.0485 - val_acc: 0.4273\n",
      "Epoch 2/20\n",
      "1250/1250 [==============================] - 11s 9ms/step - loss: 1.0591 - acc: 0.4114 - val_loss: 1.0485 - val_acc: 0.4273\n",
      "Epoch 3/20\n",
      "1250/1250 [==============================] - 12s 9ms/step - loss: 1.0591 - acc: 0.4114 - val_loss: 1.0485 - val_acc: 0.4273\n",
      "Epoch 4/20\n",
      "1250/1250 [==============================] - 12s 10ms/step - loss: 1.0591 - acc: 0.4114 - val_loss: 1.0485 - val_acc: 0.4273\n",
      "Epoch 5/20\n",
      "1250/1250 [==============================] - 12s 9ms/step - loss: 1.0591 - acc: 0.4114 - val_loss: 1.0485 - val_acc: 0.4273\n",
      "Epoch 6/20\n",
      " 416/1250 [========>.....................] - ETA: 7s - loss: 1.0590 - acc: 0.4115"
     ]
    },
    {
     "ename": "KeyboardInterrupt",
     "evalue": "",
     "output_type": "error",
     "traceback": [
      "\u001b[0;31m---------------------------------------------------------------------------\u001b[0m",
      "\u001b[0;31mKeyboardInterrupt\u001b[0m                         Traceback (most recent call last)",
      "Cell \u001b[0;32mIn [164], line 27\u001b[0m\n\u001b[1;32m     14\u001b[0m model\u001b[38;5;241m.\u001b[39mcompile(\n\u001b[1;32m     15\u001b[0m     loss\u001b[38;5;241m=\u001b[39m\u001b[38;5;124m\"\u001b[39m\u001b[38;5;124mhinge\u001b[39m\u001b[38;5;124m\"\u001b[39m,\n\u001b[1;32m     16\u001b[0m     optimizer\u001b[38;5;241m=\u001b[39m tf\u001b[38;5;241m.\u001b[39mkeras\u001b[38;5;241m.\u001b[39moptimizers\u001b[38;5;241m.\u001b[39mAdam(learning_rate \u001b[38;5;241m=\u001b[39m \u001b[38;5;241m2.5E-3\u001b[39m),\n\u001b[1;32m     17\u001b[0m     metrics \u001b[38;5;241m=\u001b[39m [\u001b[38;5;124m\"\u001b[39m\u001b[38;5;124macc\u001b[39m\u001b[38;5;124m\"\u001b[39m]\n\u001b[1;32m     18\u001b[0m )\n\u001b[1;32m     20\u001b[0m model_checkpoint_callback \u001b[38;5;241m=\u001b[39m tf\u001b[38;5;241m.\u001b[39mkeras\u001b[38;5;241m.\u001b[39mcallbacks\u001b[38;5;241m.\u001b[39mModelCheckpoint(\n\u001b[1;32m     21\u001b[0m     filepath\u001b[38;5;241m=\u001b[39m\u001b[38;5;124m\"\u001b[39m\u001b[38;5;124mmodels_weights/Model_\u001b[39m\u001b[38;5;132;01m{epoch:02d}\u001b[39;00m\u001b[38;5;124m-\u001b[39m\u001b[38;5;132;01m{val_loss:.4f}\u001b[39;00m\u001b[38;5;124m-\u001b[39m\u001b[38;5;132;01m{val_acc:0.4f}\u001b[39;00m\u001b[38;5;124m.hdf5\u001b[39m\u001b[38;5;124m\"\u001b[39m,\n\u001b[1;32m     22\u001b[0m     save_weights_only\u001b[38;5;241m=\u001b[39m\u001b[38;5;28;01mTrue\u001b[39;00m,\n\u001b[1;32m     23\u001b[0m     monitor\u001b[38;5;241m=\u001b[39m\u001b[38;5;124m'\u001b[39m\u001b[38;5;124mval_acc\u001b[39m\u001b[38;5;124m'\u001b[39m,\n\u001b[1;32m     24\u001b[0m     mode\u001b[38;5;241m=\u001b[39m\u001b[38;5;124m'\u001b[39m\u001b[38;5;124mmax\u001b[39m\u001b[38;5;124m'\u001b[39m,\n\u001b[1;32m     25\u001b[0m     save_best_only\u001b[38;5;241m=\u001b[39m\u001b[38;5;28;01mTrue\u001b[39;00m)\n\u001b[0;32m---> 27\u001b[0m \u001b[43mmodel\u001b[49m\u001b[38;5;241;43m.\u001b[39;49m\u001b[43mfit\u001b[49m\u001b[43m(\u001b[49m\n\u001b[1;32m     28\u001b[0m \u001b[43m    \u001b[49m\u001b[43mX_train_robust\u001b[49m\u001b[43m[\u001b[49m\u001b[43m:\u001b[49m\u001b[43m,\u001b[49m\u001b[43m \u001b[49m\u001b[38;5;241;43m-\u001b[39;49m\u001b[43mseq_len\u001b[49m\u001b[43m:\u001b[49m\u001b[43m,\u001b[49m\u001b[43m \u001b[49m\u001b[43m:\u001b[49m\u001b[43m]\u001b[49m\u001b[43m,\u001b[49m\u001b[43m \u001b[49m\u001b[43my_train\u001b[49m\u001b[43m,\u001b[49m\n\u001b[1;32m     29\u001b[0m \u001b[43m    \u001b[49m\u001b[43mvalidation_data\u001b[49m\u001b[43m \u001b[49m\u001b[38;5;241;43m=\u001b[39;49m\u001b[43m \u001b[49m\u001b[43m(\u001b[49m\u001b[43mX_validation_robust\u001b[49m\u001b[43m[\u001b[49m\u001b[43m:\u001b[49m\u001b[43m,\u001b[49m\u001b[43m \u001b[49m\u001b[38;5;241;43m-\u001b[39;49m\u001b[43mseq_len\u001b[49m\u001b[43m:\u001b[49m\u001b[43m,\u001b[49m\u001b[43m \u001b[49m\u001b[43m:\u001b[49m\u001b[43m]\u001b[49m\u001b[43m,\u001b[49m\u001b[43m \u001b[49m\u001b[43my_validation\u001b[49m\u001b[43m)\u001b[49m\u001b[43m,\u001b[49m\n\u001b[1;32m     30\u001b[0m \u001b[43m    \u001b[49m\u001b[43mbatch_size\u001b[49m\u001b[38;5;241;43m=\u001b[39;49m\u001b[43m \u001b[49m\u001b[38;5;241;43m64\u001b[39;49m\u001b[43m,\u001b[49m\n\u001b[1;32m     31\u001b[0m \u001b[43m    \u001b[49m\u001b[43mepochs\u001b[49m\u001b[43m \u001b[49m\u001b[38;5;241;43m=\u001b[39;49m\u001b[43m \u001b[49m\u001b[38;5;241;43m20\u001b[39;49m\u001b[43m,\u001b[49m\n\u001b[1;32m     32\u001b[0m \u001b[43m    \u001b[49m\u001b[43mcallbacks\u001b[49m\u001b[38;5;241;43m=\u001b[39;49m\u001b[43m[\u001b[49m\u001b[43mmodel_checkpoint_callback\u001b[49m\u001b[43m]\u001b[49m\n\u001b[1;32m     33\u001b[0m \u001b[43m)\u001b[49m\n",
      "File \u001b[0;32m/usr/local/lib/python3.9/dist-packages/keras/utils/traceback_utils.py:64\u001b[0m, in \u001b[0;36mfilter_traceback.<locals>.error_handler\u001b[0;34m(*args, **kwargs)\u001b[0m\n\u001b[1;32m     62\u001b[0m filtered_tb \u001b[38;5;241m=\u001b[39m \u001b[38;5;28;01mNone\u001b[39;00m\n\u001b[1;32m     63\u001b[0m \u001b[38;5;28;01mtry\u001b[39;00m:\n\u001b[0;32m---> 64\u001b[0m   \u001b[38;5;28;01mreturn\u001b[39;00m \u001b[43mfn\u001b[49m\u001b[43m(\u001b[49m\u001b[38;5;241;43m*\u001b[39;49m\u001b[43margs\u001b[49m\u001b[43m,\u001b[49m\u001b[43m \u001b[49m\u001b[38;5;241;43m*\u001b[39;49m\u001b[38;5;241;43m*\u001b[39;49m\u001b[43mkwargs\u001b[49m\u001b[43m)\u001b[49m\n\u001b[1;32m     65\u001b[0m \u001b[38;5;28;01mexcept\u001b[39;00m \u001b[38;5;167;01mException\u001b[39;00m \u001b[38;5;28;01mas\u001b[39;00m e:  \u001b[38;5;66;03m# pylint: disable=broad-except\u001b[39;00m\n\u001b[1;32m     66\u001b[0m   filtered_tb \u001b[38;5;241m=\u001b[39m _process_traceback_frames(e\u001b[38;5;241m.\u001b[39m__traceback__)\n",
      "File \u001b[0;32m/usr/local/lib/python3.9/dist-packages/keras/engine/training.py:1409\u001b[0m, in \u001b[0;36mModel.fit\u001b[0;34m(self, x, y, batch_size, epochs, verbose, callbacks, validation_split, validation_data, shuffle, class_weight, sample_weight, initial_epoch, steps_per_epoch, validation_steps, validation_batch_size, validation_freq, max_queue_size, workers, use_multiprocessing)\u001b[0m\n\u001b[1;32m   1402\u001b[0m \u001b[38;5;28;01mwith\u001b[39;00m tf\u001b[38;5;241m.\u001b[39mprofiler\u001b[38;5;241m.\u001b[39mexperimental\u001b[38;5;241m.\u001b[39mTrace(\n\u001b[1;32m   1403\u001b[0m     \u001b[38;5;124m'\u001b[39m\u001b[38;5;124mtrain\u001b[39m\u001b[38;5;124m'\u001b[39m,\n\u001b[1;32m   1404\u001b[0m     epoch_num\u001b[38;5;241m=\u001b[39mepoch,\n\u001b[1;32m   1405\u001b[0m     step_num\u001b[38;5;241m=\u001b[39mstep,\n\u001b[1;32m   1406\u001b[0m     batch_size\u001b[38;5;241m=\u001b[39mbatch_size,\n\u001b[1;32m   1407\u001b[0m     _r\u001b[38;5;241m=\u001b[39m\u001b[38;5;241m1\u001b[39m):\n\u001b[1;32m   1408\u001b[0m   callbacks\u001b[38;5;241m.\u001b[39mon_train_batch_begin(step)\n\u001b[0;32m-> 1409\u001b[0m   tmp_logs \u001b[38;5;241m=\u001b[39m \u001b[38;5;28;43mself\u001b[39;49m\u001b[38;5;241;43m.\u001b[39;49m\u001b[43mtrain_function\u001b[49m\u001b[43m(\u001b[49m\u001b[43miterator\u001b[49m\u001b[43m)\u001b[49m\n\u001b[1;32m   1410\u001b[0m   \u001b[38;5;28;01mif\u001b[39;00m data_handler\u001b[38;5;241m.\u001b[39mshould_sync:\n\u001b[1;32m   1411\u001b[0m     context\u001b[38;5;241m.\u001b[39masync_wait()\n",
      "File \u001b[0;32m/usr/local/lib/python3.9/dist-packages/tensorflow/python/util/traceback_utils.py:150\u001b[0m, in \u001b[0;36mfilter_traceback.<locals>.error_handler\u001b[0;34m(*args, **kwargs)\u001b[0m\n\u001b[1;32m    148\u001b[0m filtered_tb \u001b[38;5;241m=\u001b[39m \u001b[38;5;28;01mNone\u001b[39;00m\n\u001b[1;32m    149\u001b[0m \u001b[38;5;28;01mtry\u001b[39;00m:\n\u001b[0;32m--> 150\u001b[0m   \u001b[38;5;28;01mreturn\u001b[39;00m \u001b[43mfn\u001b[49m\u001b[43m(\u001b[49m\u001b[38;5;241;43m*\u001b[39;49m\u001b[43margs\u001b[49m\u001b[43m,\u001b[49m\u001b[43m \u001b[49m\u001b[38;5;241;43m*\u001b[39;49m\u001b[38;5;241;43m*\u001b[39;49m\u001b[43mkwargs\u001b[49m\u001b[43m)\u001b[49m\n\u001b[1;32m    151\u001b[0m \u001b[38;5;28;01mexcept\u001b[39;00m \u001b[38;5;167;01mException\u001b[39;00m \u001b[38;5;28;01mas\u001b[39;00m e:\n\u001b[1;32m    152\u001b[0m   filtered_tb \u001b[38;5;241m=\u001b[39m _process_traceback_frames(e\u001b[38;5;241m.\u001b[39m__traceback__)\n",
      "File \u001b[0;32m/usr/local/lib/python3.9/dist-packages/tensorflow/python/eager/def_function.py:915\u001b[0m, in \u001b[0;36mFunction.__call__\u001b[0;34m(self, *args, **kwds)\u001b[0m\n\u001b[1;32m    912\u001b[0m compiler \u001b[38;5;241m=\u001b[39m \u001b[38;5;124m\"\u001b[39m\u001b[38;5;124mxla\u001b[39m\u001b[38;5;124m\"\u001b[39m \u001b[38;5;28;01mif\u001b[39;00m \u001b[38;5;28mself\u001b[39m\u001b[38;5;241m.\u001b[39m_jit_compile \u001b[38;5;28;01melse\u001b[39;00m \u001b[38;5;124m\"\u001b[39m\u001b[38;5;124mnonXla\u001b[39m\u001b[38;5;124m\"\u001b[39m\n\u001b[1;32m    914\u001b[0m \u001b[38;5;28;01mwith\u001b[39;00m OptionalXlaContext(\u001b[38;5;28mself\u001b[39m\u001b[38;5;241m.\u001b[39m_jit_compile):\n\u001b[0;32m--> 915\u001b[0m   result \u001b[38;5;241m=\u001b[39m \u001b[38;5;28;43mself\u001b[39;49m\u001b[38;5;241;43m.\u001b[39;49m\u001b[43m_call\u001b[49m\u001b[43m(\u001b[49m\u001b[38;5;241;43m*\u001b[39;49m\u001b[43margs\u001b[49m\u001b[43m,\u001b[49m\u001b[43m \u001b[49m\u001b[38;5;241;43m*\u001b[39;49m\u001b[38;5;241;43m*\u001b[39;49m\u001b[43mkwds\u001b[49m\u001b[43m)\u001b[49m\n\u001b[1;32m    917\u001b[0m new_tracing_count \u001b[38;5;241m=\u001b[39m \u001b[38;5;28mself\u001b[39m\u001b[38;5;241m.\u001b[39mexperimental_get_tracing_count()\n\u001b[1;32m    918\u001b[0m without_tracing \u001b[38;5;241m=\u001b[39m (tracing_count \u001b[38;5;241m==\u001b[39m new_tracing_count)\n",
      "File \u001b[0;32m/usr/local/lib/python3.9/dist-packages/tensorflow/python/eager/def_function.py:947\u001b[0m, in \u001b[0;36mFunction._call\u001b[0;34m(self, *args, **kwds)\u001b[0m\n\u001b[1;32m    944\u001b[0m   \u001b[38;5;28mself\u001b[39m\u001b[38;5;241m.\u001b[39m_lock\u001b[38;5;241m.\u001b[39mrelease()\n\u001b[1;32m    945\u001b[0m   \u001b[38;5;66;03m# In this case we have created variables on the first call, so we run the\u001b[39;00m\n\u001b[1;32m    946\u001b[0m   \u001b[38;5;66;03m# defunned version which is guaranteed to never create variables.\u001b[39;00m\n\u001b[0;32m--> 947\u001b[0m   \u001b[38;5;28;01mreturn\u001b[39;00m \u001b[38;5;28;43mself\u001b[39;49m\u001b[38;5;241;43m.\u001b[39;49m\u001b[43m_stateless_fn\u001b[49m\u001b[43m(\u001b[49m\u001b[38;5;241;43m*\u001b[39;49m\u001b[43margs\u001b[49m\u001b[43m,\u001b[49m\u001b[43m \u001b[49m\u001b[38;5;241;43m*\u001b[39;49m\u001b[38;5;241;43m*\u001b[39;49m\u001b[43mkwds\u001b[49m\u001b[43m)\u001b[49m  \u001b[38;5;66;03m# pylint: disable=not-callable\u001b[39;00m\n\u001b[1;32m    948\u001b[0m \u001b[38;5;28;01melif\u001b[39;00m \u001b[38;5;28mself\u001b[39m\u001b[38;5;241m.\u001b[39m_stateful_fn \u001b[38;5;129;01mis\u001b[39;00m \u001b[38;5;129;01mnot\u001b[39;00m \u001b[38;5;28;01mNone\u001b[39;00m:\n\u001b[1;32m    949\u001b[0m   \u001b[38;5;66;03m# Release the lock early so that multiple threads can perform the call\u001b[39;00m\n\u001b[1;32m    950\u001b[0m   \u001b[38;5;66;03m# in parallel.\u001b[39;00m\n\u001b[1;32m    951\u001b[0m   \u001b[38;5;28mself\u001b[39m\u001b[38;5;241m.\u001b[39m_lock\u001b[38;5;241m.\u001b[39mrelease()\n",
      "File \u001b[0;32m/usr/local/lib/python3.9/dist-packages/tensorflow/python/eager/function.py:2453\u001b[0m, in \u001b[0;36mFunction.__call__\u001b[0;34m(self, *args, **kwargs)\u001b[0m\n\u001b[1;32m   2450\u001b[0m \u001b[38;5;28;01mwith\u001b[39;00m \u001b[38;5;28mself\u001b[39m\u001b[38;5;241m.\u001b[39m_lock:\n\u001b[1;32m   2451\u001b[0m   (graph_function,\n\u001b[1;32m   2452\u001b[0m    filtered_flat_args) \u001b[38;5;241m=\u001b[39m \u001b[38;5;28mself\u001b[39m\u001b[38;5;241m.\u001b[39m_maybe_define_function(args, kwargs)\n\u001b[0;32m-> 2453\u001b[0m \u001b[38;5;28;01mreturn\u001b[39;00m \u001b[43mgraph_function\u001b[49m\u001b[38;5;241;43m.\u001b[39;49m\u001b[43m_call_flat\u001b[49m\u001b[43m(\u001b[49m\n\u001b[1;32m   2454\u001b[0m \u001b[43m    \u001b[49m\u001b[43mfiltered_flat_args\u001b[49m\u001b[43m,\u001b[49m\u001b[43m \u001b[49m\u001b[43mcaptured_inputs\u001b[49m\u001b[38;5;241;43m=\u001b[39;49m\u001b[43mgraph_function\u001b[49m\u001b[38;5;241;43m.\u001b[39;49m\u001b[43mcaptured_inputs\u001b[49m\u001b[43m)\u001b[49m\n",
      "File \u001b[0;32m/usr/local/lib/python3.9/dist-packages/tensorflow/python/eager/function.py:1860\u001b[0m, in \u001b[0;36mConcreteFunction._call_flat\u001b[0;34m(self, args, captured_inputs, cancellation_manager)\u001b[0m\n\u001b[1;32m   1856\u001b[0m possible_gradient_type \u001b[38;5;241m=\u001b[39m gradients_util\u001b[38;5;241m.\u001b[39mPossibleTapeGradientTypes(args)\n\u001b[1;32m   1857\u001b[0m \u001b[38;5;28;01mif\u001b[39;00m (possible_gradient_type \u001b[38;5;241m==\u001b[39m gradients_util\u001b[38;5;241m.\u001b[39mPOSSIBLE_GRADIENT_TYPES_NONE\n\u001b[1;32m   1858\u001b[0m     \u001b[38;5;129;01mand\u001b[39;00m executing_eagerly):\n\u001b[1;32m   1859\u001b[0m   \u001b[38;5;66;03m# No tape is watching; skip to running the function.\u001b[39;00m\n\u001b[0;32m-> 1860\u001b[0m   \u001b[38;5;28;01mreturn\u001b[39;00m \u001b[38;5;28mself\u001b[39m\u001b[38;5;241m.\u001b[39m_build_call_outputs(\u001b[38;5;28;43mself\u001b[39;49m\u001b[38;5;241;43m.\u001b[39;49m\u001b[43m_inference_function\u001b[49m\u001b[38;5;241;43m.\u001b[39;49m\u001b[43mcall\u001b[49m\u001b[43m(\u001b[49m\n\u001b[1;32m   1861\u001b[0m \u001b[43m      \u001b[49m\u001b[43mctx\u001b[49m\u001b[43m,\u001b[49m\u001b[43m \u001b[49m\u001b[43margs\u001b[49m\u001b[43m,\u001b[49m\u001b[43m \u001b[49m\u001b[43mcancellation_manager\u001b[49m\u001b[38;5;241;43m=\u001b[39;49m\u001b[43mcancellation_manager\u001b[49m\u001b[43m)\u001b[49m)\n\u001b[1;32m   1862\u001b[0m forward_backward \u001b[38;5;241m=\u001b[39m \u001b[38;5;28mself\u001b[39m\u001b[38;5;241m.\u001b[39m_select_forward_and_backward_functions(\n\u001b[1;32m   1863\u001b[0m     args,\n\u001b[1;32m   1864\u001b[0m     possible_gradient_type,\n\u001b[1;32m   1865\u001b[0m     executing_eagerly)\n\u001b[1;32m   1866\u001b[0m forward_function, args_with_tangents \u001b[38;5;241m=\u001b[39m forward_backward\u001b[38;5;241m.\u001b[39mforward()\n",
      "File \u001b[0;32m/usr/local/lib/python3.9/dist-packages/tensorflow/python/eager/function.py:497\u001b[0m, in \u001b[0;36m_EagerDefinedFunction.call\u001b[0;34m(self, ctx, args, cancellation_manager)\u001b[0m\n\u001b[1;32m    495\u001b[0m \u001b[38;5;28;01mwith\u001b[39;00m _InterpolateFunctionError(\u001b[38;5;28mself\u001b[39m):\n\u001b[1;32m    496\u001b[0m   \u001b[38;5;28;01mif\u001b[39;00m cancellation_manager \u001b[38;5;129;01mis\u001b[39;00m \u001b[38;5;28;01mNone\u001b[39;00m:\n\u001b[0;32m--> 497\u001b[0m     outputs \u001b[38;5;241m=\u001b[39m \u001b[43mexecute\u001b[49m\u001b[38;5;241;43m.\u001b[39;49m\u001b[43mexecute\u001b[49m\u001b[43m(\u001b[49m\n\u001b[1;32m    498\u001b[0m \u001b[43m        \u001b[49m\u001b[38;5;28;43mstr\u001b[39;49m\u001b[43m(\u001b[49m\u001b[38;5;28;43mself\u001b[39;49m\u001b[38;5;241;43m.\u001b[39;49m\u001b[43msignature\u001b[49m\u001b[38;5;241;43m.\u001b[39;49m\u001b[43mname\u001b[49m\u001b[43m)\u001b[49m\u001b[43m,\u001b[49m\n\u001b[1;32m    499\u001b[0m \u001b[43m        \u001b[49m\u001b[43mnum_outputs\u001b[49m\u001b[38;5;241;43m=\u001b[39;49m\u001b[38;5;28;43mself\u001b[39;49m\u001b[38;5;241;43m.\u001b[39;49m\u001b[43m_num_outputs\u001b[49m\u001b[43m,\u001b[49m\n\u001b[1;32m    500\u001b[0m \u001b[43m        \u001b[49m\u001b[43minputs\u001b[49m\u001b[38;5;241;43m=\u001b[39;49m\u001b[43margs\u001b[49m\u001b[43m,\u001b[49m\n\u001b[1;32m    501\u001b[0m \u001b[43m        \u001b[49m\u001b[43mattrs\u001b[49m\u001b[38;5;241;43m=\u001b[39;49m\u001b[43mattrs\u001b[49m\u001b[43m,\u001b[49m\n\u001b[1;32m    502\u001b[0m \u001b[43m        \u001b[49m\u001b[43mctx\u001b[49m\u001b[38;5;241;43m=\u001b[39;49m\u001b[43mctx\u001b[49m\u001b[43m)\u001b[49m\n\u001b[1;32m    503\u001b[0m   \u001b[38;5;28;01melse\u001b[39;00m:\n\u001b[1;32m    504\u001b[0m     outputs \u001b[38;5;241m=\u001b[39m execute\u001b[38;5;241m.\u001b[39mexecute_with_cancellation(\n\u001b[1;32m    505\u001b[0m         \u001b[38;5;28mstr\u001b[39m(\u001b[38;5;28mself\u001b[39m\u001b[38;5;241m.\u001b[39msignature\u001b[38;5;241m.\u001b[39mname),\n\u001b[1;32m    506\u001b[0m         num_outputs\u001b[38;5;241m=\u001b[39m\u001b[38;5;28mself\u001b[39m\u001b[38;5;241m.\u001b[39m_num_outputs,\n\u001b[0;32m   (...)\u001b[0m\n\u001b[1;32m    509\u001b[0m         ctx\u001b[38;5;241m=\u001b[39mctx,\n\u001b[1;32m    510\u001b[0m         cancellation_manager\u001b[38;5;241m=\u001b[39mcancellation_manager)\n",
      "File \u001b[0;32m/usr/local/lib/python3.9/dist-packages/tensorflow/python/eager/execute.py:54\u001b[0m, in \u001b[0;36mquick_execute\u001b[0;34m(op_name, num_outputs, inputs, attrs, ctx, name)\u001b[0m\n\u001b[1;32m     52\u001b[0m \u001b[38;5;28;01mtry\u001b[39;00m:\n\u001b[1;32m     53\u001b[0m   ctx\u001b[38;5;241m.\u001b[39mensure_initialized()\n\u001b[0;32m---> 54\u001b[0m   tensors \u001b[38;5;241m=\u001b[39m \u001b[43mpywrap_tfe\u001b[49m\u001b[38;5;241;43m.\u001b[39;49m\u001b[43mTFE_Py_Execute\u001b[49m\u001b[43m(\u001b[49m\u001b[43mctx\u001b[49m\u001b[38;5;241;43m.\u001b[39;49m\u001b[43m_handle\u001b[49m\u001b[43m,\u001b[49m\u001b[43m \u001b[49m\u001b[43mdevice_name\u001b[49m\u001b[43m,\u001b[49m\u001b[43m \u001b[49m\u001b[43mop_name\u001b[49m\u001b[43m,\u001b[49m\n\u001b[1;32m     55\u001b[0m \u001b[43m                                      \u001b[49m\u001b[43minputs\u001b[49m\u001b[43m,\u001b[49m\u001b[43m \u001b[49m\u001b[43mattrs\u001b[49m\u001b[43m,\u001b[49m\u001b[43m \u001b[49m\u001b[43mnum_outputs\u001b[49m\u001b[43m)\u001b[49m\n\u001b[1;32m     56\u001b[0m \u001b[38;5;28;01mexcept\u001b[39;00m core\u001b[38;5;241m.\u001b[39m_NotOkStatusException \u001b[38;5;28;01mas\u001b[39;00m e:\n\u001b[1;32m     57\u001b[0m   \u001b[38;5;28;01mif\u001b[39;00m name \u001b[38;5;129;01mis\u001b[39;00m \u001b[38;5;129;01mnot\u001b[39;00m \u001b[38;5;28;01mNone\u001b[39;00m:\n",
      "\u001b[0;31mKeyboardInterrupt\u001b[0m: "
     ]
    }
   ],
   "source": [
    "tranformer_robust = RobustScaler(unit_variance = True, with_centering= True).fit(X_train)\n",
    "\n",
    "X_train_robust = tranformer_robust.transform(X_train)[:, :, np.newaxis]\n",
    "X_validation_robust = tranformer_robust.transform(X_validation)[:, :, np.newaxis]\n",
    "\n",
    "\n",
    "seq_len = 40\n",
    "dropout = 0.3\n",
    "model = tf.keras.models.Sequential([\n",
    "    tf.keras.layers.GRU(120, return_sequences = True, dropout= dropout, kernel_regularizer=tf.keras.regularizers.l2(0.001)),\n",
    "    tf.keras.layers.GRU(120, return_sequences = False, dropout= dropout, kernel_regularizer=tf.keras.regularizers.l2(0.001)),\n",
    "    tf.keras.layers.Dense(3, activation = \"softmax\")\n",
    "])\n",
    "model.compile(\n",
    "    loss=\"hinge\",\n",
    "    optimizer= tf.keras.optimizers.Adam(learning_rate = 2.5E-3),\n",
    "    metrics = [\"acc\"]\n",
    ")\n",
    "\n",
    "model_checkpoint_callback = tf.keras.callbacks.ModelCheckpoint(\n",
    "    filepath=\"models_weights/Model_{epoch:02d}-{val_loss:.4f}-{val_acc:0.4f}.hdf5\",\n",
    "    save_weights_only=True,\n",
    "    monitor='val_acc',\n",
    "    mode='max',\n",
    "    save_best_only=True)\n",
    "\n",
    "model.fit(\n",
    "    X_train_robust[:, -seq_len:, :], y_train,\n",
    "    validation_data = (X_validation_robust[:, -seq_len:, :], y_validation),\n",
    "    batch_size= 64,\n",
    "    epochs = 20,\n",
    "    callbacks=[model_checkpoint_callback]\n",
    ")"
   ]
  },
  {
   "cell_type": "code",
   "execution_count": null,
   "metadata": {
    "execution": {
     "iopub.status.busy": "2023-03-14T14:59:30.889025Z",
     "iopub.status.idle": "2023-03-14T14:59:30.889337Z",
     "shell.execute_reply": "2023-03-14T14:59:30.889196Z",
     "shell.execute_reply.started": "2023-03-14T14:59:30.889180Z"
    }
   },
   "outputs": [],
   "source": [
    "x_train_df = pd.read_csv(\"input_training.csv\", index_col=\"ID\", nrows = nrows)\n",
    "x_train_df.replace(np.nan, 0, inplace = True)\n",
    "\n",
    "X_train = train_df[features_columns].to_numpy()\n",
    "y_train = train_df['reod']"
   ]
  },
  {
   "cell_type": "code",
   "execution_count": null,
   "metadata": {
    "execution": {
     "iopub.status.busy": "2023-03-14T14:59:30.890424Z",
     "iopub.status.idle": "2023-03-14T14:59:30.890742Z",
     "shell.execute_reply": "2023-03-14T14:59:30.890605Z",
     "shell.execute_reply.started": "2023-03-14T14:59:30.890589Z"
    }
   },
   "outputs": [],
   "source": [
    "tranformer_robust = RobustScaler(unit_variance = True, with_centering= True).fit(X_train)\n",
    "\n",
    "X_train_robust = tranformer_robust.transform(X_train)[:, :, np.newaxis]\n",
    "\n",
    "X_test_robust = tranformer_robust.transform(X_test)[:, :, np.newaxis]\n",
    "\n",
    "seq_len = 30\n",
    "dropout = 0.123731\n",
    "model = tf.keras.models.Sequential([\n",
    "    tf.keras.layers.LSTM(41, return_sequences = False, dropout= dropout),\n",
    "    tf.keras.layers.Dense(3, activation = \"softmax\")\n",
    "])\n",
    "model.compile(\n",
    "    loss=\"sparse_categorical_crossentropy\",\n",
    "    optimizer= tf.keras.optimizers.Adam(learning_rate = 3E-3),\n",
    "    metrics = [\"acc\"]\n",
    ")\n",
    "\n",
    "model_checkpoint_callback = tf.keras.callbacks.ModelCheckpoint(\n",
    "    filepath=\"models_weights/Model_{epoch:02d}-{val_loss:.4f}-{val_acc:0.4f}.hdf5\",\n",
    "    save_weights_only=True,\n",
    "    monitor='val_acc',\n",
    "    mode='max',\n",
    "    save_best_only=True)\n",
    "\n",
    "model.fit(\n",
    "    X_train_robust[:, -seq_len:, :], y_train,\n",
    "    batch_size= 64,\n",
    "    epochs = 2,\n",
    "    #callbacks=[model_checkpoint_callback]\n",
    ")"
   ]
  },
  {
   "cell_type": "code",
   "execution_count": null,
   "metadata": {
    "execution": {
     "iopub.status.busy": "2023-03-14T14:59:30.891888Z",
     "iopub.status.idle": "2023-03-14T14:59:30.892221Z",
     "shell.execute_reply": "2023-03-14T14:59:30.892061Z",
     "shell.execute_reply.started": "2023-03-14T14:59:30.892044Z"
    }
   },
   "outputs": [],
   "source": [
    "#model.load_weights(\"/notebooks/models_weights/Model_03-0.9985-0.4751.hdf5\")\n",
    "results = model.predict(X_test_robust[:, -seq_len:, :])"
   ]
  },
  {
   "cell_type": "code",
   "execution_count": null,
   "metadata": {
    "execution": {
     "iopub.status.busy": "2023-03-14T14:59:30.893310Z",
     "iopub.status.idle": "2023-03-14T14:59:30.893638Z",
     "shell.execute_reply": "2023-03-14T14:59:30.893471Z",
     "shell.execute_reply.started": "2023-03-14T14:59:30.893455Z"
    }
   },
   "outputs": [],
   "source": [
    "x_test_df[\"reod\"] = results.argmax(axis=-1) -1\n",
    "result_df = x_test_df[[\"reod\"]]\n",
    "result_df"
   ]
  },
  {
   "cell_type": "code",
   "execution_count": null,
   "metadata": {
    "execution": {
     "iopub.status.busy": "2023-03-14T14:59:30.894557Z",
     "iopub.status.idle": "2023-03-14T14:59:30.894850Z",
     "shell.execute_reply": "2023-03-14T14:59:30.894721Z",
     "shell.execute_reply.started": "2023-03-14T14:59:30.894706Z"
    }
   },
   "outputs": [],
   "source": [
    "result_df.to_csv(\"y_test.csv\")"
   ]
  }
 ],
 "metadata": {
  "kernelspec": {
   "display_name": "Python 3 (ipykernel)",
   "language": "python",
   "name": "python3"
  },
  "language_info": {
   "codemirror_mode": {
    "name": "ipython",
    "version": 3
   },
   "file_extension": ".py",
   "mimetype": "text/x-python",
   "name": "python",
   "nbconvert_exporter": "python",
   "pygments_lexer": "ipython3",
   "version": "3.9.16"
  },
  "vscode": {
   "interpreter": {
    "hash": "369f2c481f4da34e4445cda3fffd2e751bd1c4d706f27375911949ba6bb62e1c"
   }
  }
 },
 "nbformat": 4,
 "nbformat_minor": 4
}
